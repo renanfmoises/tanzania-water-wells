{
 "cells": [
  {
   "cell_type": "code",
   "execution_count": 1,
   "id": "4ec6d6a6",
   "metadata": {},
   "outputs": [],
   "source": [
    "# Basic Libs\n",
    "import pandas as pd\n",
    "import numpy as np\n",
    "\n",
    "# DataViz Libs\n",
    "import matplotlib.pyplot as plt\n",
    "import seaborn as sns\n",
    "\n",
    "# Modeling\n",
    "from sklearn.impute import KNNImputer\n",
    "from sklearn.model_selection import train_test_split\n",
    "from catboost import CatBoostClassifier, Pool\n",
    "\n",
    "# Notebook Setup\n",
    "from warnings import simplefilter\n",
    "simplefilter('ignore')\n",
    "pd.set_option('display.max_columns', None)"
   ]
  },
  {
   "cell_type": "markdown",
   "id": "e5bf50d0",
   "metadata": {},
   "source": [
    "## Loading Datasets"
   ]
  },
  {
   "cell_type": "code",
   "execution_count": 2,
   "id": "959d62fd",
   "metadata": {},
   "outputs": [],
   "source": [
    "# Load Datasets\n",
    "X = pd.read_csv('../data/X_train.csv')\n",
    "y = pd.read_csv('../data/y_train.csv')"
   ]
  },
  {
   "cell_type": "code",
   "execution_count": 3,
   "id": "40913718",
   "metadata": {},
   "outputs": [
    {
     "data": {
      "text/html": [
       "<div>\n",
       "<style scoped>\n",
       "    .dataframe tbody tr th:only-of-type {\n",
       "        vertical-align: middle;\n",
       "    }\n",
       "\n",
       "    .dataframe tbody tr th {\n",
       "        vertical-align: top;\n",
       "    }\n",
       "\n",
       "    .dataframe thead th {\n",
       "        text-align: right;\n",
       "    }\n",
       "</style>\n",
       "<table border=\"1\" class=\"dataframe\">\n",
       "  <thead>\n",
       "    <tr style=\"text-align: right;\">\n",
       "      <th></th>\n",
       "      <th>id</th>\n",
       "      <th>amount_tsh</th>\n",
       "      <th>date_recorded</th>\n",
       "      <th>funder</th>\n",
       "      <th>gps_height</th>\n",
       "      <th>installer</th>\n",
       "      <th>longitude</th>\n",
       "      <th>latitude</th>\n",
       "      <th>wpt_name</th>\n",
       "      <th>num_private</th>\n",
       "      <th>basin</th>\n",
       "      <th>subvillage</th>\n",
       "      <th>region</th>\n",
       "      <th>region_code</th>\n",
       "      <th>district_code</th>\n",
       "      <th>lga</th>\n",
       "      <th>ward</th>\n",
       "      <th>population</th>\n",
       "      <th>public_meeting</th>\n",
       "      <th>recorded_by</th>\n",
       "      <th>scheme_management</th>\n",
       "      <th>scheme_name</th>\n",
       "      <th>permit</th>\n",
       "      <th>construction_year</th>\n",
       "      <th>extraction_type</th>\n",
       "      <th>extraction_type_group</th>\n",
       "      <th>extraction_type_class</th>\n",
       "      <th>management</th>\n",
       "      <th>management_group</th>\n",
       "      <th>payment</th>\n",
       "      <th>payment_type</th>\n",
       "      <th>water_quality</th>\n",
       "      <th>quality_group</th>\n",
       "      <th>quantity</th>\n",
       "      <th>quantity_group</th>\n",
       "      <th>source</th>\n",
       "      <th>source_type</th>\n",
       "      <th>source_class</th>\n",
       "      <th>waterpoint_type</th>\n",
       "      <th>waterpoint_type_group</th>\n",
       "    </tr>\n",
       "  </thead>\n",
       "  <tbody>\n",
       "    <tr>\n",
       "      <th>0</th>\n",
       "      <td>69572</td>\n",
       "      <td>6000.0</td>\n",
       "      <td>2011-03-14</td>\n",
       "      <td>Roman</td>\n",
       "      <td>1390</td>\n",
       "      <td>Roman</td>\n",
       "      <td>34.938093</td>\n",
       "      <td>-9.856322</td>\n",
       "      <td>none</td>\n",
       "      <td>0</td>\n",
       "      <td>Lake Nyasa</td>\n",
       "      <td>Mnyusi B</td>\n",
       "      <td>Iringa</td>\n",
       "      <td>11</td>\n",
       "      <td>5</td>\n",
       "      <td>Ludewa</td>\n",
       "      <td>Mundindi</td>\n",
       "      <td>109</td>\n",
       "      <td>True</td>\n",
       "      <td>GeoData Consultants Ltd</td>\n",
       "      <td>VWC</td>\n",
       "      <td>Roman</td>\n",
       "      <td>False</td>\n",
       "      <td>1999</td>\n",
       "      <td>gravity</td>\n",
       "      <td>gravity</td>\n",
       "      <td>gravity</td>\n",
       "      <td>vwc</td>\n",
       "      <td>user-group</td>\n",
       "      <td>pay annually</td>\n",
       "      <td>annually</td>\n",
       "      <td>soft</td>\n",
       "      <td>good</td>\n",
       "      <td>enough</td>\n",
       "      <td>enough</td>\n",
       "      <td>spring</td>\n",
       "      <td>spring</td>\n",
       "      <td>groundwater</td>\n",
       "      <td>communal standpipe</td>\n",
       "      <td>communal standpipe</td>\n",
       "    </tr>\n",
       "    <tr>\n",
       "      <th>1</th>\n",
       "      <td>8776</td>\n",
       "      <td>0.0</td>\n",
       "      <td>2013-03-06</td>\n",
       "      <td>Grumeti</td>\n",
       "      <td>1399</td>\n",
       "      <td>GRUMETI</td>\n",
       "      <td>34.698766</td>\n",
       "      <td>-2.147466</td>\n",
       "      <td>Zahanati</td>\n",
       "      <td>0</td>\n",
       "      <td>Lake Victoria</td>\n",
       "      <td>Nyamara</td>\n",
       "      <td>Mara</td>\n",
       "      <td>20</td>\n",
       "      <td>2</td>\n",
       "      <td>Serengeti</td>\n",
       "      <td>Natta</td>\n",
       "      <td>280</td>\n",
       "      <td>NaN</td>\n",
       "      <td>GeoData Consultants Ltd</td>\n",
       "      <td>Other</td>\n",
       "      <td>NaN</td>\n",
       "      <td>True</td>\n",
       "      <td>2010</td>\n",
       "      <td>gravity</td>\n",
       "      <td>gravity</td>\n",
       "      <td>gravity</td>\n",
       "      <td>wug</td>\n",
       "      <td>user-group</td>\n",
       "      <td>never pay</td>\n",
       "      <td>never pay</td>\n",
       "      <td>soft</td>\n",
       "      <td>good</td>\n",
       "      <td>insufficient</td>\n",
       "      <td>insufficient</td>\n",
       "      <td>rainwater harvesting</td>\n",
       "      <td>rainwater harvesting</td>\n",
       "      <td>surface</td>\n",
       "      <td>communal standpipe</td>\n",
       "      <td>communal standpipe</td>\n",
       "    </tr>\n",
       "    <tr>\n",
       "      <th>2</th>\n",
       "      <td>34310</td>\n",
       "      <td>25.0</td>\n",
       "      <td>2013-02-25</td>\n",
       "      <td>Lottery Club</td>\n",
       "      <td>686</td>\n",
       "      <td>World vision</td>\n",
       "      <td>37.460664</td>\n",
       "      <td>-3.821329</td>\n",
       "      <td>Kwa Mahundi</td>\n",
       "      <td>0</td>\n",
       "      <td>Pangani</td>\n",
       "      <td>Majengo</td>\n",
       "      <td>Manyara</td>\n",
       "      <td>21</td>\n",
       "      <td>4</td>\n",
       "      <td>Simanjiro</td>\n",
       "      <td>Ngorika</td>\n",
       "      <td>250</td>\n",
       "      <td>True</td>\n",
       "      <td>GeoData Consultants Ltd</td>\n",
       "      <td>VWC</td>\n",
       "      <td>Nyumba ya mungu pipe scheme</td>\n",
       "      <td>True</td>\n",
       "      <td>2009</td>\n",
       "      <td>gravity</td>\n",
       "      <td>gravity</td>\n",
       "      <td>gravity</td>\n",
       "      <td>vwc</td>\n",
       "      <td>user-group</td>\n",
       "      <td>pay per bucket</td>\n",
       "      <td>per bucket</td>\n",
       "      <td>soft</td>\n",
       "      <td>good</td>\n",
       "      <td>enough</td>\n",
       "      <td>enough</td>\n",
       "      <td>dam</td>\n",
       "      <td>dam</td>\n",
       "      <td>surface</td>\n",
       "      <td>communal standpipe multiple</td>\n",
       "      <td>communal standpipe</td>\n",
       "    </tr>\n",
       "  </tbody>\n",
       "</table>\n",
       "</div>"
      ],
      "text/plain": [
       "      id  amount_tsh date_recorded        funder  gps_height     installer  \\\n",
       "0  69572      6000.0    2011-03-14         Roman        1390         Roman   \n",
       "1   8776         0.0    2013-03-06       Grumeti        1399       GRUMETI   \n",
       "2  34310        25.0    2013-02-25  Lottery Club         686  World vision   \n",
       "\n",
       "   longitude  latitude     wpt_name  num_private          basin subvillage  \\\n",
       "0  34.938093 -9.856322         none            0     Lake Nyasa   Mnyusi B   \n",
       "1  34.698766 -2.147466     Zahanati            0  Lake Victoria    Nyamara   \n",
       "2  37.460664 -3.821329  Kwa Mahundi            0        Pangani    Majengo   \n",
       "\n",
       "    region  region_code  district_code        lga      ward  population  \\\n",
       "0   Iringa           11              5     Ludewa  Mundindi         109   \n",
       "1     Mara           20              2  Serengeti     Natta         280   \n",
       "2  Manyara           21              4  Simanjiro   Ngorika         250   \n",
       "\n",
       "  public_meeting              recorded_by scheme_management  \\\n",
       "0           True  GeoData Consultants Ltd               VWC   \n",
       "1            NaN  GeoData Consultants Ltd             Other   \n",
       "2           True  GeoData Consultants Ltd               VWC   \n",
       "\n",
       "                   scheme_name permit  construction_year extraction_type  \\\n",
       "0                        Roman  False               1999         gravity   \n",
       "1                          NaN   True               2010         gravity   \n",
       "2  Nyumba ya mungu pipe scheme   True               2009         gravity   \n",
       "\n",
       "  extraction_type_group extraction_type_class management management_group  \\\n",
       "0               gravity               gravity        vwc       user-group   \n",
       "1               gravity               gravity        wug       user-group   \n",
       "2               gravity               gravity        vwc       user-group   \n",
       "\n",
       "          payment payment_type water_quality quality_group      quantity  \\\n",
       "0    pay annually     annually          soft          good        enough   \n",
       "1       never pay    never pay          soft          good  insufficient   \n",
       "2  pay per bucket   per bucket          soft          good        enough   \n",
       "\n",
       "  quantity_group                source           source_type source_class  \\\n",
       "0         enough                spring                spring  groundwater   \n",
       "1   insufficient  rainwater harvesting  rainwater harvesting      surface   \n",
       "2         enough                   dam                   dam      surface   \n",
       "\n",
       "               waterpoint_type waterpoint_type_group  \n",
       "0           communal standpipe    communal standpipe  \n",
       "1           communal standpipe    communal standpipe  \n",
       "2  communal standpipe multiple    communal standpipe  "
      ]
     },
     "execution_count": 3,
     "metadata": {},
     "output_type": "execute_result"
    }
   ],
   "source": [
    "# Meet the dataset\n",
    "X.head(3)"
   ]
  },
  {
   "cell_type": "markdown",
   "id": "010df1ff",
   "metadata": {},
   "source": [
    "### Checks"
   ]
  },
  {
   "cell_type": "markdown",
   "id": "bf0d8646",
   "metadata": {},
   "source": [
    "**Train and test datasets have been provided separately.**\n",
    "\n",
    "Let's see if they satisfy some conditions.\n",
    "\n",
    "The conditions are:\n",
    "\n",
    "- **Both datasets have the same number of rows;**\n",
    "- **Both datasets are _sorted_ equally in order or appearance;**\n",
    "\n",
    "If these conditions are not met, we will need some basic data wrangling before proceeding."
   ]
  },
  {
   "cell_type": "markdown",
   "id": "a2e2a86b",
   "metadata": {},
   "source": [
    "#### Number of Rows"
   ]
  },
  {
   "cell_type": "code",
   "execution_count": 4,
   "id": "cd630738",
   "metadata": {},
   "outputs": [
    {
     "data": {
      "text/plain": [
       "((59400, 40), (59400, 2))"
      ]
     },
     "execution_count": 4,
     "metadata": {},
     "output_type": "execute_result"
    }
   ],
   "source": [
    "# Check if the number of rows in both X and y are the same\n",
    "X.shape, y.shape"
   ]
  },
  {
   "cell_type": "markdown",
   "id": "3ee6c434",
   "metadata": {},
   "source": [
    "Both datasets have the same number of rows, which is a good sign.\n",
    "\n",
    "Now we can investigate the second condition, about their order of appearance."
   ]
  },
  {
   "cell_type": "markdown",
   "id": "851cb5c3",
   "metadata": {},
   "source": [
    "#### Equally sorted"
   ]
  },
  {
   "cell_type": "code",
   "execution_count": 5,
   "id": "6161dfa8",
   "metadata": {},
   "outputs": [
    {
     "data": {
      "text/plain": [
       "True"
      ]
     },
     "execution_count": 5,
     "metadata": {},
     "output_type": "execute_result"
    }
   ],
   "source": [
    "(X['id'].values == y['id'].values).all()"
   ]
  },
  {
   "cell_type": "code",
   "execution_count": 6,
   "id": "198cb74d",
   "metadata": {},
   "outputs": [
    {
     "name": "stdout",
     "output_type": "stream",
     "text": [
      "[69572  8776 34310 67743 19728]\n",
      "[69572  8776 34310 67743 19728]\n"
     ]
    }
   ],
   "source": [
    "print(y['id'].values[:5])\n",
    "print(X['id'].values[:5])"
   ]
  },
  {
   "cell_type": "markdown",
   "id": "f979d732",
   "metadata": {},
   "source": [
    "`X` and `y` are _sorted_ equally. The second condition has also been met.\n",
    "\n",
    "The integrity of the datasets have been confirmed.\n",
    "\n",
    "At the moment of training a classification model for the task we will use them separately, but there are still some **Exploratory Data Analysis (EDA)** ahead. If we keep them separate and drop some rows in `X` dataset, for example, we will need to perform the same operation for the corresponding indexes in `y`. \n",
    "\n",
    "It's more convenient to merge both datasets into a simple `df` python variable."
   ]
  },
  {
   "cell_type": "markdown",
   "id": "b1a26d46",
   "metadata": {},
   "source": [
    "### Merge `X` and `y` into `df`"
   ]
  },
  {
   "cell_type": "code",
   "execution_count": 7,
   "id": "3d092c92",
   "metadata": {},
   "outputs": [
    {
     "data": {
      "text/html": [
       "<div>\n",
       "<style scoped>\n",
       "    .dataframe tbody tr th:only-of-type {\n",
       "        vertical-align: middle;\n",
       "    }\n",
       "\n",
       "    .dataframe tbody tr th {\n",
       "        vertical-align: top;\n",
       "    }\n",
       "\n",
       "    .dataframe thead th {\n",
       "        text-align: right;\n",
       "    }\n",
       "</style>\n",
       "<table border=\"1\" class=\"dataframe\">\n",
       "  <thead>\n",
       "    <tr style=\"text-align: right;\">\n",
       "      <th></th>\n",
       "      <th>id</th>\n",
       "      <th>amount_tsh</th>\n",
       "      <th>date_recorded</th>\n",
       "      <th>funder</th>\n",
       "      <th>gps_height</th>\n",
       "      <th>installer</th>\n",
       "      <th>longitude</th>\n",
       "      <th>latitude</th>\n",
       "      <th>wpt_name</th>\n",
       "      <th>num_private</th>\n",
       "      <th>basin</th>\n",
       "      <th>subvillage</th>\n",
       "      <th>region</th>\n",
       "      <th>region_code</th>\n",
       "      <th>district_code</th>\n",
       "      <th>lga</th>\n",
       "      <th>ward</th>\n",
       "      <th>population</th>\n",
       "      <th>public_meeting</th>\n",
       "      <th>recorded_by</th>\n",
       "      <th>scheme_management</th>\n",
       "      <th>scheme_name</th>\n",
       "      <th>permit</th>\n",
       "      <th>construction_year</th>\n",
       "      <th>extraction_type</th>\n",
       "      <th>extraction_type_group</th>\n",
       "      <th>extraction_type_class</th>\n",
       "      <th>management</th>\n",
       "      <th>management_group</th>\n",
       "      <th>payment</th>\n",
       "      <th>payment_type</th>\n",
       "      <th>water_quality</th>\n",
       "      <th>quality_group</th>\n",
       "      <th>quantity</th>\n",
       "      <th>quantity_group</th>\n",
       "      <th>source</th>\n",
       "      <th>source_type</th>\n",
       "      <th>source_class</th>\n",
       "      <th>waterpoint_type</th>\n",
       "      <th>waterpoint_type_group</th>\n",
       "      <th>status_group</th>\n",
       "    </tr>\n",
       "  </thead>\n",
       "  <tbody>\n",
       "    <tr>\n",
       "      <th>0</th>\n",
       "      <td>69572</td>\n",
       "      <td>6000.0</td>\n",
       "      <td>2011-03-14</td>\n",
       "      <td>Roman</td>\n",
       "      <td>1390</td>\n",
       "      <td>Roman</td>\n",
       "      <td>34.938093</td>\n",
       "      <td>-9.856322</td>\n",
       "      <td>none</td>\n",
       "      <td>0</td>\n",
       "      <td>Lake Nyasa</td>\n",
       "      <td>Mnyusi B</td>\n",
       "      <td>Iringa</td>\n",
       "      <td>11</td>\n",
       "      <td>5</td>\n",
       "      <td>Ludewa</td>\n",
       "      <td>Mundindi</td>\n",
       "      <td>109</td>\n",
       "      <td>True</td>\n",
       "      <td>GeoData Consultants Ltd</td>\n",
       "      <td>VWC</td>\n",
       "      <td>Roman</td>\n",
       "      <td>False</td>\n",
       "      <td>1999</td>\n",
       "      <td>gravity</td>\n",
       "      <td>gravity</td>\n",
       "      <td>gravity</td>\n",
       "      <td>vwc</td>\n",
       "      <td>user-group</td>\n",
       "      <td>pay annually</td>\n",
       "      <td>annually</td>\n",
       "      <td>soft</td>\n",
       "      <td>good</td>\n",
       "      <td>enough</td>\n",
       "      <td>enough</td>\n",
       "      <td>spring</td>\n",
       "      <td>spring</td>\n",
       "      <td>groundwater</td>\n",
       "      <td>communal standpipe</td>\n",
       "      <td>communal standpipe</td>\n",
       "      <td>functional</td>\n",
       "    </tr>\n",
       "    <tr>\n",
       "      <th>1</th>\n",
       "      <td>8776</td>\n",
       "      <td>0.0</td>\n",
       "      <td>2013-03-06</td>\n",
       "      <td>Grumeti</td>\n",
       "      <td>1399</td>\n",
       "      <td>GRUMETI</td>\n",
       "      <td>34.698766</td>\n",
       "      <td>-2.147466</td>\n",
       "      <td>Zahanati</td>\n",
       "      <td>0</td>\n",
       "      <td>Lake Victoria</td>\n",
       "      <td>Nyamara</td>\n",
       "      <td>Mara</td>\n",
       "      <td>20</td>\n",
       "      <td>2</td>\n",
       "      <td>Serengeti</td>\n",
       "      <td>Natta</td>\n",
       "      <td>280</td>\n",
       "      <td>NaN</td>\n",
       "      <td>GeoData Consultants Ltd</td>\n",
       "      <td>Other</td>\n",
       "      <td>NaN</td>\n",
       "      <td>True</td>\n",
       "      <td>2010</td>\n",
       "      <td>gravity</td>\n",
       "      <td>gravity</td>\n",
       "      <td>gravity</td>\n",
       "      <td>wug</td>\n",
       "      <td>user-group</td>\n",
       "      <td>never pay</td>\n",
       "      <td>never pay</td>\n",
       "      <td>soft</td>\n",
       "      <td>good</td>\n",
       "      <td>insufficient</td>\n",
       "      <td>insufficient</td>\n",
       "      <td>rainwater harvesting</td>\n",
       "      <td>rainwater harvesting</td>\n",
       "      <td>surface</td>\n",
       "      <td>communal standpipe</td>\n",
       "      <td>communal standpipe</td>\n",
       "      <td>functional</td>\n",
       "    </tr>\n",
       "    <tr>\n",
       "      <th>2</th>\n",
       "      <td>34310</td>\n",
       "      <td>25.0</td>\n",
       "      <td>2013-02-25</td>\n",
       "      <td>Lottery Club</td>\n",
       "      <td>686</td>\n",
       "      <td>World vision</td>\n",
       "      <td>37.460664</td>\n",
       "      <td>-3.821329</td>\n",
       "      <td>Kwa Mahundi</td>\n",
       "      <td>0</td>\n",
       "      <td>Pangani</td>\n",
       "      <td>Majengo</td>\n",
       "      <td>Manyara</td>\n",
       "      <td>21</td>\n",
       "      <td>4</td>\n",
       "      <td>Simanjiro</td>\n",
       "      <td>Ngorika</td>\n",
       "      <td>250</td>\n",
       "      <td>True</td>\n",
       "      <td>GeoData Consultants Ltd</td>\n",
       "      <td>VWC</td>\n",
       "      <td>Nyumba ya mungu pipe scheme</td>\n",
       "      <td>True</td>\n",
       "      <td>2009</td>\n",
       "      <td>gravity</td>\n",
       "      <td>gravity</td>\n",
       "      <td>gravity</td>\n",
       "      <td>vwc</td>\n",
       "      <td>user-group</td>\n",
       "      <td>pay per bucket</td>\n",
       "      <td>per bucket</td>\n",
       "      <td>soft</td>\n",
       "      <td>good</td>\n",
       "      <td>enough</td>\n",
       "      <td>enough</td>\n",
       "      <td>dam</td>\n",
       "      <td>dam</td>\n",
       "      <td>surface</td>\n",
       "      <td>communal standpipe multiple</td>\n",
       "      <td>communal standpipe</td>\n",
       "      <td>functional</td>\n",
       "    </tr>\n",
       "  </tbody>\n",
       "</table>\n",
       "</div>"
      ],
      "text/plain": [
       "      id  amount_tsh date_recorded        funder  gps_height     installer  \\\n",
       "0  69572      6000.0    2011-03-14         Roman        1390         Roman   \n",
       "1   8776         0.0    2013-03-06       Grumeti        1399       GRUMETI   \n",
       "2  34310        25.0    2013-02-25  Lottery Club         686  World vision   \n",
       "\n",
       "   longitude  latitude     wpt_name  num_private          basin subvillage  \\\n",
       "0  34.938093 -9.856322         none            0     Lake Nyasa   Mnyusi B   \n",
       "1  34.698766 -2.147466     Zahanati            0  Lake Victoria    Nyamara   \n",
       "2  37.460664 -3.821329  Kwa Mahundi            0        Pangani    Majengo   \n",
       "\n",
       "    region  region_code  district_code        lga      ward  population  \\\n",
       "0   Iringa           11              5     Ludewa  Mundindi         109   \n",
       "1     Mara           20              2  Serengeti     Natta         280   \n",
       "2  Manyara           21              4  Simanjiro   Ngorika         250   \n",
       "\n",
       "  public_meeting              recorded_by scheme_management  \\\n",
       "0           True  GeoData Consultants Ltd               VWC   \n",
       "1            NaN  GeoData Consultants Ltd             Other   \n",
       "2           True  GeoData Consultants Ltd               VWC   \n",
       "\n",
       "                   scheme_name permit  construction_year extraction_type  \\\n",
       "0                        Roman  False               1999         gravity   \n",
       "1                          NaN   True               2010         gravity   \n",
       "2  Nyumba ya mungu pipe scheme   True               2009         gravity   \n",
       "\n",
       "  extraction_type_group extraction_type_class management management_group  \\\n",
       "0               gravity               gravity        vwc       user-group   \n",
       "1               gravity               gravity        wug       user-group   \n",
       "2               gravity               gravity        vwc       user-group   \n",
       "\n",
       "          payment payment_type water_quality quality_group      quantity  \\\n",
       "0    pay annually     annually          soft          good        enough   \n",
       "1       never pay    never pay          soft          good  insufficient   \n",
       "2  pay per bucket   per bucket          soft          good        enough   \n",
       "\n",
       "  quantity_group                source           source_type source_class  \\\n",
       "0         enough                spring                spring  groundwater   \n",
       "1   insufficient  rainwater harvesting  rainwater harvesting      surface   \n",
       "2         enough                   dam                   dam      surface   \n",
       "\n",
       "               waterpoint_type waterpoint_type_group status_group  \n",
       "0           communal standpipe    communal standpipe   functional  \n",
       "1           communal standpipe    communal standpipe   functional  \n",
       "2  communal standpipe multiple    communal standpipe   functional  "
      ]
     },
     "execution_count": 7,
     "metadata": {},
     "output_type": "execute_result"
    }
   ],
   "source": [
    "# Merge X and y\n",
    "df = X.merge(y, on = 'id')\n",
    "df.head(3)"
   ]
  },
  {
   "cell_type": "markdown",
   "id": "cafcbe2c",
   "metadata": {},
   "source": [
    "## EDA\n",
    "\n",
    "**Exploratory Data Analysis is an extended task for Modeling Data**. \n",
    "\n",
    "Let's do some EDA on data integrity rather than statistical significance for now."
   ]
  },
  {
   "cell_type": "markdown",
   "id": "ed419528",
   "metadata": {},
   "source": [
    "### Shape"
   ]
  },
  {
   "cell_type": "code",
   "execution_count": 8,
   "id": "626eb725",
   "metadata": {},
   "outputs": [
    {
     "data": {
      "text/plain": [
       "(59400, 41)"
      ]
     },
     "execution_count": 8,
     "metadata": {},
     "output_type": "execute_result"
    }
   ],
   "source": [
    "# Check df shape\n",
    "df.shape"
   ]
  },
  {
   "cell_type": "markdown",
   "id": "4278fb5d",
   "metadata": {},
   "source": [
    "### Metadata"
   ]
  },
  {
   "cell_type": "code",
   "execution_count": 9,
   "id": "133780d4",
   "metadata": {},
   "outputs": [
    {
     "name": "stdout",
     "output_type": "stream",
     "text": [
      "<class 'pandas.core.frame.DataFrame'>\n",
      "Int64Index: 59400 entries, 0 to 59399\n",
      "Data columns (total 41 columns):\n",
      " #   Column                 Non-Null Count  Dtype  \n",
      "---  ------                 --------------  -----  \n",
      " 0   id                     59400 non-null  int64  \n",
      " 1   amount_tsh             59400 non-null  float64\n",
      " 2   date_recorded          59400 non-null  object \n",
      " 3   funder                 55765 non-null  object \n",
      " 4   gps_height             59400 non-null  int64  \n",
      " 5   installer              55745 non-null  object \n",
      " 6   longitude              59400 non-null  float64\n",
      " 7   latitude               59400 non-null  float64\n",
      " 8   wpt_name               59400 non-null  object \n",
      " 9   num_private            59400 non-null  int64  \n",
      " 10  basin                  59400 non-null  object \n",
      " 11  subvillage             59029 non-null  object \n",
      " 12  region                 59400 non-null  object \n",
      " 13  region_code            59400 non-null  int64  \n",
      " 14  district_code          59400 non-null  int64  \n",
      " 15  lga                    59400 non-null  object \n",
      " 16  ward                   59400 non-null  object \n",
      " 17  population             59400 non-null  int64  \n",
      " 18  public_meeting         56066 non-null  object \n",
      " 19  recorded_by            59400 non-null  object \n",
      " 20  scheme_management      55523 non-null  object \n",
      " 21  scheme_name            31234 non-null  object \n",
      " 22  permit                 56344 non-null  object \n",
      " 23  construction_year      59400 non-null  int64  \n",
      " 24  extraction_type        59400 non-null  object \n",
      " 25  extraction_type_group  59400 non-null  object \n",
      " 26  extraction_type_class  59400 non-null  object \n",
      " 27  management             59400 non-null  object \n",
      " 28  management_group       59400 non-null  object \n",
      " 29  payment                59400 non-null  object \n",
      " 30  payment_type           59400 non-null  object \n",
      " 31  water_quality          59400 non-null  object \n",
      " 32  quality_group          59400 non-null  object \n",
      " 33  quantity               59400 non-null  object \n",
      " 34  quantity_group         59400 non-null  object \n",
      " 35  source                 59400 non-null  object \n",
      " 36  source_type            59400 non-null  object \n",
      " 37  source_class           59400 non-null  object \n",
      " 38  waterpoint_type        59400 non-null  object \n",
      " 39  waterpoint_type_group  59400 non-null  object \n",
      " 40  status_group           59400 non-null  object \n",
      "dtypes: float64(3), int64(7), object(31)\n",
      "memory usage: 19.0+ MB\n"
     ]
    }
   ],
   "source": [
    "# Check df metadata\n",
    "df.info()"
   ]
  },
  {
   "cell_type": "markdown",
   "id": "38741e8e",
   "metadata": {},
   "source": [
    "One of the easiest things to notice in this dataset is that:\n",
    "\n",
    "1. `date_recorded` variable is stored as a `pandas` `object` instead of `datetime` object. We will handle this shortly;\n",
    "2. Some variables have `null` values;\n",
    "\n",
    "Other data types issues, harder to spot, may refer to `bool` variables recorded as object. We will investigate on that either.\n",
    "\n",
    "But first, it's convenient to keep track of what needs to be done in a TO-DO list. Let's build it.\n",
    "\n",
    "</br><center>------</center></br>\n",
    "\n",
    "As of now, our TO-DO list looks like this:\n",
    "\n",
    "**TO-DO**\n",
    "- [ ] parse `date_recorded` to `pd.datetime` data type;\n",
    "- [ ] investigate on possible wrongly parsed data types for `object` variables;\n",
    "- [ ] deal with `null` values.\n",
    "\n",
    "\n",
    "#### Handling `date_recorded` variable data type"
   ]
  },
  {
   "cell_type": "code",
   "execution_count": 10,
   "id": "bd32886a",
   "metadata": {},
   "outputs": [],
   "source": [
    "# Change date_recorded to datetime dtype\n",
    "df['date_recorded'] = pd.to_datetime(df['date_recorded'])"
   ]
  },
  {
   "cell_type": "markdown",
   "id": "b8b63eb9",
   "metadata": {},
   "source": [
    "#### Investigate other data types"
   ]
  },
  {
   "cell_type": "code",
   "execution_count": 11,
   "id": "d1f2300d",
   "metadata": {},
   "outputs": [
    {
     "name": "stdout",
     "output_type": "stream",
     "text": [
      "----------public_meeting----------\n",
      "True     51011\n",
      "False     5055\n",
      "NaN       3334\n",
      "Name: public_meeting, dtype: int64 \n",
      "\n",
      "    Percent (%) of NaNs: 5.61%    \n",
      "---------------------------------- \n",
      "\n",
      "-----------recorded_by------------\n",
      "GeoData Consultants Ltd    59400\n",
      "Name: recorded_by, dtype: int64 \n",
      "\n",
      "    Percent (%) of NaNs: 0.00%    \n",
      "---------------------------------- \n",
      "\n",
      "--------------permit--------------\n",
      "True     38852\n",
      "False    17492\n",
      "NaN       3056\n",
      "Name: permit, dtype: int64 \n",
      "\n",
      "    Percent (%) of NaNs: 5.14%    \n",
      "---------------------------------- \n",
      "\n"
     ]
    }
   ],
   "source": [
    "categorical_vars = X.select_dtypes(include = 'object', exclude = 'datetime64').columns.tolist()\n",
    "\n",
    "for var in categorical_vars:\n",
    "    if len(X[var].value_counts()) <= 2:\n",
    "        print(var.center(34, '-'))\n",
    "        print(X[var].value_counts(dropna = False), '\\n')\n",
    "        print(f'Percent (%) of NaNs: {(X[var].isna().mean())*100:.2f}%'.center(34))\n",
    "        print(\"-\".center(34, '-'), '\\n')\n",
    "        "
   ]
  },
  {
   "cell_type": "markdown",
   "id": "4a056dac",
   "metadata": {},
   "source": [
    "`public_meeting` and `permit` would have been parsed as `bool` if it wasn't for the `nan` values. We will deal with that when dealing with NAs values shortly.\n",
    "\n",
    "`recorded_by` has a single value across all dataset. This variable is redundant and would add extra complexity to the model that would not result in a model's performance improvement. Let's drop it.\n",
    "\n",
    "Before. Let's update our TO-DO list.\n",
    "\n",
    "</br><center>------</center></br>\n",
    "\n",
    "Updated TO-DO list:\n",
    "\n",
    "**TO-DO**\n",
    "- [x] [parse `date_recorded` to `pd.datetime` data type;](#Handling-date_recorded-variable-data-type)\n",
    "- [ ] investigate on possible wrongly parsed data types for `object` variables;\n",
    "    - [x] [review `df` and eyespot wrongly parsed datatypes;](#Loading-Datasets)\n",
    "    - [ ] drop `recorded_by` due to redundancy;\n",
    "    - [ ] check `category` variables unique number of classes;\n",
    "- [ ] deal with `null` values.\n"
   ]
  },
  {
   "cell_type": "markdown",
   "id": "c1122be2",
   "metadata": {},
   "source": [
    "### Drop `recorded_by`"
   ]
  },
  {
   "cell_type": "code",
   "execution_count": 12,
   "id": "67c24be9",
   "metadata": {},
   "outputs": [],
   "source": [
    "df = df.drop(columns=['recorded_by'])"
   ]
  },
  {
   "cell_type": "markdown",
   "id": "8f1afd2c",
   "metadata": {},
   "source": [
    "Updated TO-DO list:\n",
    "\n",
    "**TO-DO**\n",
    "- [x] [parse `date_recorded` to `pd.datetime` data type;](#Handling-date_recorded-variable-data-type)\n",
    "- [ ] investigate on possible wrongly parsed data types for `object` variables;\n",
    "    - [x] [review `df` and eyespot wrongly parsed datatypes;](#Loading-Datasets)\n",
    "    - [x] [drop `recorded_by` due to redundancy;](#Drop-recorded_by)\n",
    "    - [ ] check `category` variables unique number of classes;\n",
    "- [ ] deal with `null` values.\n"
   ]
  },
  {
   "cell_type": "markdown",
   "id": "96185981",
   "metadata": {},
   "source": [
    "### Check `category` variables"
   ]
  },
  {
   "cell_type": "code",
   "execution_count": 13,
   "id": "981c99d6",
   "metadata": {},
   "outputs": [
    {
     "data": {
      "image/png": "[encoded data removed]",
      "text/plain": [
       "<Figure size 1080x216 with 1 Axes>"
      ]
     },
     "metadata": {
      "needs_background": "light"
     },
     "output_type": "display_data"
    }
   ],
   "source": [
    "categorical_vars = df.select_dtypes(include=[object, 'category']).columns.tolist()\n",
    "\n",
    "plt.figure(figsize=(15, 3))\n",
    "df[categorical_vars].nunique().hist(color = 'gray', bins = 100)\n",
    "sns.despine(left = True)\n",
    "plt.title('Histogram Count of Unique Classes for Categorical Vars')\n",
    "plt.grid()\n",
    "plt.tight_layout()"
   ]
  },
  {
   "cell_type": "markdown",
   "id": "12be0ace",
   "metadata": {},
   "source": [
    "Most variables have few unique classes. But some of them have more than 2000 classes. Some variable have around 20,000 unique classes or more.\n",
    "\n",
    "Modeling with that amount of classes will be difficult. Let's investigate on those variables a little closer."
   ]
  },
  {
   "cell_type": "code",
   "execution_count": 14,
   "id": "5148cf10",
   "metadata": {},
   "outputs": [
    {
     "data": {
      "text/plain": [
       "funder          1897\n",
       "installer       2145\n",
       "wpt_name       37400\n",
       "subvillage     19287\n",
       "lga              125\n",
       "ward            2092\n",
       "scheme_name     2696\n",
       "dtype: int64"
      ]
     },
     "execution_count": 14,
     "metadata": {},
     "output_type": "execute_result"
    }
   ],
   "source": [
    "df[categorical_vars].nunique()[(df[categorical_vars].nunique() > 30)]"
   ]
  },
  {
   "cell_type": "code",
   "execution_count": null,
   "id": "cc9125ec",
   "metadata": {},
   "outputs": [],
   "source": []
  },
  {
   "cell_type": "code",
   "execution_count": 15,
   "id": "cf4bfd25",
   "metadata": {},
   "outputs": [
    {
     "data": {
      "text/plain": [
       "functional                 32259\n",
       "non functional             22824\n",
       "functional needs repair     4317\n",
       "Name: status_group, dtype: int64"
      ]
     },
     "execution_count": 15,
     "metadata": {},
     "output_type": "execute_result"
    }
   ],
   "source": [
    "y['status_group'].value_counts()"
   ]
  },
  {
   "cell_type": "markdown",
   "id": "5c8660d9",
   "metadata": {},
   "source": [
    "### NAs"
   ]
  },
  {
   "cell_type": "code",
   "execution_count": 16,
   "id": "17d0da86",
   "metadata": {},
   "outputs": [
    {
     "data": {
      "image/png": "[encoded data removed]",
      "text/plain": [
       "<Figure size 1080x432 with 1 Axes>"
      ]
     },
     "metadata": {
      "needs_background": "light"
     },
     "output_type": "display_data"
    }
   ],
   "source": [
    "# Check null values\n",
    "plt.figure(figsize = (15, 6))\n",
    "df.isna().mean().plot(kind='bar', color = 'darkgray', zorder = 2)\n",
    "sns.despine(left = True)\n",
    "plt.grid(which = 'major', axis = 'y', color='lightgray', linestyle='--', linewidth=.5, zorder = 1)\n",
    "plt.tight_layout()"
   ]
  },
  {
   "cell_type": "markdown",
   "id": "d06b4495",
   "metadata": {},
   "source": [
    "Both **`public_meeting`** and **`permit`** variables appear as `categorical` data type, but they actually are `bool`. In fact, if it wasn't for the `'NaN'` values, they would have been parsed correctly yet while reading the file.\n",
    "\n",
    "We need to either drop those lines or impute a thoughtful value. We'll consider this task ahead, but first let's take note of our tasks on helpful a **TO-DO list**.\n",
    "\n",
    "\n",
    "</br><center>------</center></br>\n",
    "\n",
    "**TO-DO**\n",
    "- [x] parse `date_recorded` to `pd.datetime` data type\n",
    "- [ ] drop or impute values to `public_meeting` and `permit`variables;\n",
    "- [ ] drop `schema_name` variable;\n",
    "- [ ] remove `recorded_by` columns due to that all values are the same `GeoDataConsultants Ltd`.\n"
   ]
  },
  {
   "cell_type": "code",
   "execution_count": 17,
   "id": "62d15533",
   "metadata": {},
   "outputs": [
    {
     "data": {
      "text/plain": [
       "(53281, 40)"
      ]
     },
     "execution_count": 17,
     "metadata": {},
     "output_type": "execute_result"
    }
   ],
   "source": [
    "df = df.dropna(subset = ['public_meeting', 'permit'])\n",
    "df.shape"
   ]
  },
  {
   "cell_type": "code",
   "execution_count": 18,
   "id": "d3a1295a",
   "metadata": {},
   "outputs": [
    {
     "data": {
      "image/png": "[encoded data removed]",
      "text/plain": [
       "<Figure size 1080x432 with 1 Axes>"
      ]
     },
     "metadata": {
      "needs_background": "light"
     },
     "output_type": "display_data"
    }
   ],
   "source": [
    "plt.figure(figsize = (15, 6))\n",
    "df.isna().mean().plot(kind='bar', color = 'darkgray', zorder = 2)\n",
    "sns.despine(left = True)\n",
    "plt.grid(which = 'major', axis = 'y', color='lightgray', linestyle='--', linewidth=.5, zorder = 1)\n",
    "plt.tight_layout()"
   ]
  },
  {
   "cell_type": "code",
   "execution_count": 19,
   "id": "24126802",
   "metadata": {},
   "outputs": [
    {
     "data": {
      "text/plain": [
       "(53281, 39)"
      ]
     },
     "execution_count": 19,
     "metadata": {},
     "output_type": "execute_result"
    }
   ],
   "source": [
    "df = df.drop(columns = 'scheme_name')\n",
    "df.shape"
   ]
  },
  {
   "cell_type": "code",
   "execution_count": 20,
   "id": "231a44d1",
   "metadata": {},
   "outputs": [
    {
     "data": {
      "text/plain": [
       "functional                 0.543081\n",
       "non functional             0.384242\n",
       "functional needs repair    0.072677\n",
       "Name: status_group, dtype: float64"
      ]
     },
     "execution_count": 20,
     "metadata": {},
     "output_type": "execute_result"
    }
   ],
   "source": [
    "# Check y values\n",
    "y['status_group'].value_counts(normalize=True)"
   ]
  },
  {
   "cell_type": "markdown",
   "id": "3dabeb1d",
   "metadata": {},
   "source": [
    "### Modeling\n",
    "\n",
    "Add to import cell:\n",
    "\n",
    "```python\n",
    "from sklearn.model_selection import train_test_split\n",
    "from catboost import CatBoostClassifier, Pool\n",
    "```"
   ]
  },
  {
   "cell_type": "code",
   "execution_count": 21,
   "id": "ecf85a26",
   "metadata": {},
   "outputs": [],
   "source": [
    "# def train_test_eval_split(X, y, random_state = None, \n",
    "#                           train_size = .6, \n",
    "#                           test_size = .2, \n",
    "#                           val_size = .2,\n",
    "#                           **kwargs):\n",
    "    \n",
    "#     df_n_rows = X.shape[0]\n",
    "    \n",
    "#     train_n_rows = np.ceil(df_n_rows * train_size)\n",
    "#     val_n_rows = np.ceil(df_n_rows * val_size)\n",
    "#     test_n_rows = np.floor(df_n_rows * test_size)\n",
    "    \n",
    "#     assert train_n_rows + val_n_rows + test_n_rows == df_n_rows\n",
    "    \n",
    "#     X_train, X_val_test, y_train, y_val_test = train_test_split(X, y, train_size = train_n_rows)\n",
    "#     X_val, X_test, y_val, y_test = train_test_split(X_val_test, y_val_test, train_size = val_n_rows)\n",
    "    \n",
    "#     return X_train, X_val, X_test, y_train, y_val, y_test"
   ]
  },
  {
   "cell_type": "code",
   "execution_count": null,
   "id": "0fd1cedd",
   "metadata": {},
   "outputs": [],
   "source": []
  },
  {
   "cell_type": "code",
   "execution_count": 22,
   "id": "8bf6ed19",
   "metadata": {},
   "outputs": [],
   "source": [
    "X = df.drop(columns = ['id', 'status_group']).dropna()\n",
    "y = df['status_group']"
   ]
  },
  {
   "cell_type": "code",
   "execution_count": 23,
   "id": "17843786",
   "metadata": {},
   "outputs": [],
   "source": [
    "# train_test_eval_split(X, y)"
   ]
  },
  {
   "cell_type": "code",
   "execution_count": 24,
   "id": "43aff125",
   "metadata": {},
   "outputs": [],
   "source": [
    "X_train, X_val_test, y_train, y_val_test = train_test_split(X, y, train_size = .6, random_state = 0)"
   ]
  },
  {
   "cell_type": "code",
   "execution_count": 25,
   "id": "1db3704f",
   "metadata": {},
   "outputs": [],
   "source": [
    "X_val, X_test, y_val, y_test = train_test_split(X_val_test, y_val_test, test_size = .5, random_state = 0)"
   ]
  },
  {
   "cell_type": "code",
   "execution_count": 26,
   "id": "1f563c33",
   "metadata": {},
   "outputs": [
    {
     "name": "stdout",
     "output_type": "stream",
     "text": [
      "(31968, 37) (10656, 37) (10657, 37)\n",
      "(31968,) (10656,) (10657,)\n"
     ]
    }
   ],
   "source": [
    "print(X_train.shape, X_val.shape, X_test.shape)\n",
    "print(y_train.shape, y_val.shape, y_test.shape)"
   ]
  },
  {
   "cell_type": "code",
   "execution_count": 31,
   "id": "fed2fca2",
   "metadata": {},
   "outputs": [
    {
     "ename": "CatBoostError",
     "evalue": "Invalid type for cat_feature[non-default value idx=64,feature_idx=2]=nan : cat_features must be integer or string, real number values and NaN values should be converted to string.",
     "output_type": "error",
     "traceback": [
      "\u001b[0;31m---------------------------------------------------------------------------\u001b[0m",
      "\u001b[0;31mCatBoostError\u001b[0m                             Traceback (most recent call last)",
      "\u001b[0;32m_catboost.pyx\u001b[0m in \u001b[0;36m_catboost.get_cat_factor_bytes_representation\u001b[0;34m()\u001b[0m\n",
      "\u001b[0;32m_catboost.pyx\u001b[0m in \u001b[0;36m_catboost.get_id_object_bytes_string_representation\u001b[0;34m()\u001b[0m\n",
      "\u001b[0;31mCatBoostError\u001b[0m: bad object for id: nan",
      "\nDuring handling of the above exception, another exception occurred:\n",
      "\u001b[0;31mCatBoostError\u001b[0m                             Traceback (most recent call last)",
      "\u001b[0;32m/var/folders/wl/0f_drsss6j3fltq3dgnjsj_m0000gn/T/ipykernel_47341/3429202715.py\u001b[0m in \u001b[0;36m<module>\u001b[0;34m\u001b[0m\n\u001b[0;32m----> 1\u001b[0;31m \u001b[0mtrain_dataset\u001b[0m \u001b[0;34m=\u001b[0m \u001b[0mPool\u001b[0m\u001b[0;34m(\u001b[0m\u001b[0mX_train\u001b[0m\u001b[0;34m,\u001b[0m \u001b[0my_train\u001b[0m\u001b[0;34m,\u001b[0m \u001b[0mcat_features\u001b[0m \u001b[0;34m=\u001b[0m \u001b[0mX_train\u001b[0m\u001b[0;34m.\u001b[0m\u001b[0mselect_dtypes\u001b[0m\u001b[0;34m(\u001b[0m\u001b[0minclude\u001b[0m \u001b[0;34m=\u001b[0m \u001b[0;34m[\u001b[0m\u001b[0mobject\u001b[0m\u001b[0;34m,\u001b[0m \u001b[0;34m'category'\u001b[0m\u001b[0;34m]\u001b[0m\u001b[0;34m)\u001b[0m\u001b[0;34m.\u001b[0m\u001b[0mcolumns\u001b[0m\u001b[0;34m.\u001b[0m\u001b[0mtolist\u001b[0m\u001b[0;34m(\u001b[0m\u001b[0;34m)\u001b[0m\u001b[0;34m)\u001b[0m\u001b[0;34m\u001b[0m\u001b[0;34m\u001b[0m\u001b[0m\n\u001b[0m",
      "\u001b[0;32m~/.pyenv/versions/3.8.12/envs/lewagon/lib/python3.8/site-packages/catboost/core.py\u001b[0m in \u001b[0;36m__init__\u001b[0;34m(self, data, label, cat_features, text_features, embedding_features, column_description, pairs, delimiter, has_header, ignore_csv_quoting, weight, group_id, group_weight, subgroup_id, pairs_weight, baseline, timestamp, feature_names, feature_tags, thread_count, log_cout, log_cerr)\u001b[0m\n\u001b[1;32m    643\u001b[0m                     )\n\u001b[1;32m    644\u001b[0m \u001b[0;34m\u001b[0m\u001b[0m\n\u001b[0;32m--> 645\u001b[0;31m                 self._init(data, label, cat_features, text_features, embedding_features, pairs, weight,\n\u001b[0m\u001b[1;32m    646\u001b[0m                            group_id, group_weight, subgroup_id, pairs_weight, baseline, timestamp, feature_names, feature_tags, thread_count)\n\u001b[1;32m    647\u001b[0m         \u001b[0msuper\u001b[0m\u001b[0;34m(\u001b[0m\u001b[0mPool\u001b[0m\u001b[0;34m,\u001b[0m \u001b[0mself\u001b[0m\u001b[0;34m)\u001b[0m\u001b[0;34m.\u001b[0m\u001b[0m__init__\u001b[0m\u001b[0;34m(\u001b[0m\u001b[0;34m)\u001b[0m\u001b[0;34m\u001b[0m\u001b[0;34m\u001b[0m\u001b[0m\n",
      "\u001b[0;32m~/.pyenv/versions/3.8.12/envs/lewagon/lib/python3.8/site-packages/catboost/core.py\u001b[0m in \u001b[0;36m_init\u001b[0;34m(self, data, label, cat_features, text_features, embedding_features, pairs, weight, group_id, group_weight, subgroup_id, pairs_weight, baseline, timestamp, feature_names, feature_tags, thread_count)\u001b[0m\n\u001b[1;32m   1220\u001b[0m         \u001b[0;32mif\u001b[0m \u001b[0mfeature_tags\u001b[0m \u001b[0;32mis\u001b[0m \u001b[0;32mnot\u001b[0m \u001b[0;32mNone\u001b[0m\u001b[0;34m:\u001b[0m\u001b[0;34m\u001b[0m\u001b[0;34m\u001b[0m\u001b[0m\n\u001b[1;32m   1221\u001b[0m             \u001b[0mfeature_tags\u001b[0m \u001b[0;34m=\u001b[0m \u001b[0mself\u001b[0m\u001b[0;34m.\u001b[0m\u001b[0m_check_transform_tags\u001b[0m\u001b[0;34m(\u001b[0m\u001b[0mfeature_tags\u001b[0m\u001b[0;34m,\u001b[0m \u001b[0mfeature_names\u001b[0m\u001b[0;34m)\u001b[0m\u001b[0;34m\u001b[0m\u001b[0;34m\u001b[0m\u001b[0m\n\u001b[0;32m-> 1222\u001b[0;31m         self._init_pool(data, label, cat_features, text_features, embedding_features, pairs, weight,\n\u001b[0m\u001b[1;32m   1223\u001b[0m                         group_id, group_weight, subgroup_id, pairs_weight, baseline, timestamp, feature_names, feature_tags, thread_count)\n\u001b[1;32m   1224\u001b[0m \u001b[0;34m\u001b[0m\u001b[0m\n",
      "\u001b[0;32m_catboost.pyx\u001b[0m in \u001b[0;36m_catboost._PoolBase._init_pool\u001b[0;34m()\u001b[0m\n",
      "\u001b[0;32m_catboost.pyx\u001b[0m in \u001b[0;36m_catboost._PoolBase._init_pool\u001b[0;34m()\u001b[0m\n",
      "\u001b[0;32m_catboost.pyx\u001b[0m in \u001b[0;36m_catboost._PoolBase._init_features_order_layout_pool\u001b[0;34m()\u001b[0m\n",
      "\u001b[0;32m_catboost.pyx\u001b[0m in \u001b[0;36m_catboost._set_features_order_data_pd_data_frame\u001b[0;34m()\u001b[0m\n",
      "\u001b[0;32m_catboost.pyx\u001b[0m in \u001b[0;36m_catboost.get_cat_factor_bytes_representation\u001b[0;34m()\u001b[0m\n",
      "\u001b[0;31mCatBoostError\u001b[0m: Invalid type for cat_feature[non-default value idx=64,feature_idx=2]=nan : cat_features must be integer or string, real number values and NaN values should be converted to string."
     ]
    }
   ],
   "source": [
    "train_dataset = Pool(X_train, y_train, cat_features = X_train.select_dtypes(include = [object, 'category']).columns.tolist())"
   ]
  },
  {
   "cell_type": "markdown",
   "id": "82e3b0d0",
   "metadata": {
    "heading_collapsed": true
   },
   "source": [
    "### Impute missing values\n",
    "\n",
    "```python \n",
    "### from sklearn.impute import KNNimmputer\n",
    "```\n",
    "\n",
    "Even if the amount of total rows missing is at most 3334 observations (which represents 5.6% of our dataset), I would like to try a `KNNImputer` on them."
   ]
  },
  {
   "cell_type": "code",
   "execution_count": null,
   "id": "d12666ec",
   "metadata": {
    "hidden": true
   },
   "outputs": [],
   "source": [
    "knn_imputer = KNNImputer()"
   ]
  },
  {
   "cell_type": "code",
   "execution_count": null,
   "id": "b62a7dfe",
   "metadata": {
    "hidden": true
   },
   "outputs": [],
   "source": [
    "X[['public_meeting', 'permit']].values.astype(bool)"
   ]
  },
  {
   "cell_type": "code",
   "execution_count": null,
   "id": "856766c4",
   "metadata": {
    "hidden": true
   },
   "outputs": [],
   "source": [
    "X_knnimputer_train = X.sample(300)\n",
    "index_X_knnimputer_train = X_knnimputer_train.index\n",
    "\n",
    "y_knnimputer_train = X_knnimputer_train[['public_meeting', 'permit']]\n",
    "y_permit_knnimputer_train = X_knnimputer_train['permit']\n",
    "\n",
    "X_knnimputer_train = X_knnimputer_train.drop(columns = ['public_meeting', 'permit'])"
   ]
  },
  {
   "cell_type": "code",
   "execution_count": null,
   "id": "99b021cc",
   "metadata": {
    "hidden": true
   },
   "outputs": [],
   "source": [
    "knn_imputer.fit(X_knnimputer_train, y=y_knnimputer_train)"
   ]
  },
  {
   "cell_type": "code",
   "execution_count": null,
   "id": "ce6a58a1",
   "metadata": {
    "hidden": true
   },
   "outputs": [],
   "source": [
    "(3334 / X.shape[0]) * 100"
   ]
  },
  {
   "cell_type": "code",
   "execution_count": null,
   "id": "6d229041",
   "metadata": {
    "hidden": true
   },
   "outputs": [],
   "source": [
    "import xgboost as xgb"
   ]
  },
  {
   "cell_type": "code",
   "execution_count": null,
   "id": "98af046d",
   "metadata": {
    "hidden": true
   },
   "outputs": [],
   "source": [
    "xgb.XGBRFClassifier(use_label_encoder=False)"
   ]
  },
  {
   "cell_type": "code",
   "execution_count": null,
   "id": "99ec12e8",
   "metadata": {
    "hidden": true
   },
   "outputs": [],
   "source": [
    "from sklearn.ensemble import RandomForestClassifier"
   ]
  },
  {
   "cell_type": "code",
   "execution_count": null,
   "id": "8013a368",
   "metadata": {
    "hidden": true
   },
   "outputs": [],
   "source": [
    "RandomForestClassifier(n_estimators=10_000)"
   ]
  },
  {
   "cell_type": "code",
   "execution_count": null,
   "id": "b4c42d31",
   "metadata": {
    "hidden": true
   },
   "outputs": [],
   "source": []
  }
 ],
 "metadata": {
  "kernelspec": {
   "display_name": "Python 3 (ipykernel)",
   "language": "python",
   "name": "python3"
  },
  "language_info": {
   "codemirror_mode": {
    "name": "ipython",
    "version": 3
   },
   "file_extension": ".py",
   "mimetype": "text/x-python",
   "name": "python",
   "nbconvert_exporter": "python",
   "pygments_lexer": "ipython3",
   "version": "3.8.12"
  },
  "toc": {
   "base_numbering": 1,
   "nav_menu": {},
   "number_sections": true,
   "sideBar": true,
   "skip_h1_title": false,
   "title_cell": "Table of Contents",
   "title_sidebar": "Contents",
   "toc_cell": false,
   "toc_position": {},
   "toc_section_display": true,
   "toc_window_display": false
  }
 },
 "nbformat": 4,
 "nbformat_minor": 5
}
