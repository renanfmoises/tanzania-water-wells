{
 "cells": [
  {
   "cell_type": "markdown",
   "id": "d1b654c6",
   "metadata": {},
   "source": [
    "# TWW \n",
    "\n",
    "**Tanzania Water Wells** quality classification."
   ]
  },
  {
   "cell_type": "code",
   "execution_count": null,
   "id": "806340e6",
   "metadata": {},
   "outputs": [],
   "source": [
    "# Basic Libs\n",
    "import pandas as pd\n",
    "import numpy as np\n",
    "\n",
    "# DataViz Libs\n",
    "import matplotlib.pyplot as plt\n",
    "import seaborn as sns\n",
    "\n",
    "# Modeling\n",
    "from sklearn.impute import KNNImputer\n",
    "from sklearn.model_selection import train_test_split\n",
    "from catboost import CatBoostClassifier, Pool\n",
    "\n",
    "# Notebook Setup\n",
    "from warnings import simplefilter\n",
    "simplefilter('ignore')\n",
    "pd.set_option('display.max_columns', None)"
   ]
  },
  {
   "cell_type": "markdown",
   "id": "ec7c36d3",
   "metadata": {},
   "source": [
    "## Loading Datasets"
   ]
  },
  {
   "cell_type": "code",
   "execution_count": null,
   "id": "bb4dec98",
   "metadata": {},
   "outputs": [],
   "source": [
    "# Load Datasets\n",
    "X = pd.read_csv('../data/X_train.csv')\n",
    "y = pd.read_csv('../data/y_train.csv')"
   ]
  },
  {
   "cell_type": "code",
   "execution_count": null,
   "id": "28036d99",
   "metadata": {},
   "outputs": [],
   "source": [
    "# Meet the dataset\n",
    "X.head(3)"
   ]
  },
  {
   "cell_type": "markdown",
   "id": "bf716bb6",
   "metadata": {},
   "source": [
    "### Checks"
   ]
  },
  {
   "cell_type": "markdown",
   "id": "dd4774b7",
   "metadata": {},
   "source": [
    "**Train and test datasets have been provided separately.**\n",
    "\n",
    "Let's see if they satisfy some conditions.\n",
    "\n",
    "The conditions are:\n",
    "\n",
    "- **Both datasets have the same number of rows;**\n",
    "- **Both datasets are _sorted_ equally in order or appearance;**\n",
    "\n",
    "If these conditions are not met, we will need some basic data wrangling before proceeding."
   ]
  },
  {
   "cell_type": "markdown",
   "id": "6321cd5f",
   "metadata": {},
   "source": [
    "#### Number of Rows"
   ]
  },
  {
   "cell_type": "code",
   "execution_count": null,
   "id": "fb4f970f",
   "metadata": {},
   "outputs": [],
   "source": [
    "# Check if the number of rows in both X and y are the same\n",
    "X.shape, y.shape"
   ]
  },
  {
   "cell_type": "markdown",
   "id": "5f9d83eb",
   "metadata": {},
   "source": [
    "Both datasets have the same number of rows, which is a good sign.\n",
    "\n",
    "Now we can investigate the second condition, about their order of appearance."
   ]
  },
  {
   "cell_type": "markdown",
   "id": "f296c5aa",
   "metadata": {},
   "source": [
    "#### Equally sorted"
   ]
  },
  {
   "cell_type": "code",
   "execution_count": null,
   "id": "d1803fc0",
   "metadata": {},
   "outputs": [],
   "source": [
    "(X['id'].values == y['id'].values).all()"
   ]
  },
  {
   "cell_type": "code",
   "execution_count": null,
   "id": "2f00a3a4",
   "metadata": {},
   "outputs": [],
   "source": [
    "print(y['id'].values[:5])\n",
    "print(X['id'].values[:5])"
   ]
  },
  {
   "cell_type": "markdown",
   "id": "28d48926",
   "metadata": {},
   "source": [
    "`X` and `y` are _sorted_ equally. The second condition has also been met.\n",
    "\n",
    "The integrity of the datasets have been confirmed.\n",
    "\n",
    "At the moment of training a classification model for the task we will use them separately, but there are still some **Exploratory Data Analysis (EDA)** ahead. If we keep them separate and drop some rows in `X` dataset, for example, we will need to perform the same operation for the corresponding indexes in `y`. \n",
    "\n",
    "It's more convenient to merge both datasets into a simple `df` python variable."
   ]
  },
  {
   "cell_type": "markdown",
   "id": "97562dcd",
   "metadata": {},
   "source": [
    "### Merge `X` and `y` into `df`"
   ]
  },
  {
   "cell_type": "code",
   "execution_count": null,
   "id": "f5af114b",
   "metadata": {},
   "outputs": [],
   "source": [
    "# Merge X and y\n",
    "df = X.merge(y, on = 'id')\n",
    "df.head(3)"
   ]
  },
  {
   "cell_type": "markdown",
   "id": "00fd7343",
   "metadata": {},
   "source": [
    "## EDA\n",
    "\n",
    "**Exploratory Data Analysis is an extended task for Modeling Data**. \n",
    "\n",
    "Let's do some EDA on data integrity rather than statistical significance for now."
   ]
  },
  {
   "cell_type": "markdown",
   "id": "e000fb95",
   "metadata": {},
   "source": [
    "### Shape"
   ]
  },
  {
   "cell_type": "code",
   "execution_count": null,
   "id": "48e763e9",
   "metadata": {},
   "outputs": [],
   "source": [
    "# Check df shape\n",
    "df.shape"
   ]
  },
  {
   "cell_type": "markdown",
   "id": "307bd551",
   "metadata": {},
   "source": [
    "### Metadata"
   ]
  },
  {
   "cell_type": "code",
   "execution_count": null,
   "id": "cca820f1",
   "metadata": {},
   "outputs": [],
   "source": [
    "# Check df metadata\n",
    "df.info()"
   ]
  },
  {
   "cell_type": "markdown",
   "id": "63e05964",
   "metadata": {},
   "source": [
    "One of the easiest things to notice in this dataset is that:\n",
    "\n",
    "1. `date_recorded` variable is stored as a `pandas` `object` instead of `datetime` object. We will handle this shortly;\n",
    "2. Some variables have `null` values;\n",
    "\n",
    "Other data types issues, harder to spot, may refer to `bool` variables recorded as object. We will investigate on that either.\n",
    "\n",
    "But first, it's convenient to keep track of what needs to be done in a TO-DO list. Let's build it.\n",
    "\n",
    "</br><center>------</center></br>\n",
    "\n",
    "As of now, our TO-DO list looks like this:\n",
    "\n",
    "**TO-DO**\n",
    "- [ ] parse `date_recorded` to `pd.datetime` data type;\n",
    "- [ ] investigate on possible wrongly parsed data types for `object` variables;\n",
    "- [ ] deal with `null` values.\n",
    "\n",
    "\n",
    "#### Handling `date_recorded` variable data type"
   ]
  },
  {
   "cell_type": "code",
   "execution_count": null,
   "id": "29ffa57e",
   "metadata": {},
   "outputs": [],
   "source": [
    "# Change date_recorded to datetime dtype\n",
    "df['date_recorded'] = pd.to_datetime(df['date_recorded'])"
   ]
  },
  {
   "cell_type": "markdown",
   "id": "aab3c2df",
   "metadata": {},
   "source": [
    "#### Investigate other data types"
   ]
  },
  {
   "cell_type": "code",
   "execution_count": null,
   "id": "1dfaef9b",
   "metadata": {},
   "outputs": [],
   "source": [
    "categorical_vars = X.select_dtypes(include = 'object', exclude = 'datetime64').columns.tolist()\n",
    "\n",
    "for var in categorical_vars:\n",
    "    if len(X[var].value_counts()) <= 2:\n",
    "        print(var.center(34, '-'))\n",
    "        print(X[var].value_counts(dropna = False), '\\n')\n",
    "        print(f'Percent (%) of NaNs: {(X[var].isna().mean())*100:.2f}%'.center(34))\n",
    "        print(\"-\".center(34, '-'), '\\n')\n",
    "        "
   ]
  },
  {
   "cell_type": "markdown",
   "id": "c11baa9f",
   "metadata": {},
   "source": [
    "`public_meeting` and `permit` would have been parsed as `bool` if it wasn't for the `nan` values. We will deal with that when dealing with NAs values shortly.\n",
    "\n",
    "`recorded_by` has a single value across all dataset. This variable is redundant and would add extra complexity to the model that would not result in a model's performance improvement. Let's drop it.\n",
    "\n",
    "Before. Let's update our TO-DO list.\n",
    "\n",
    "</br><center>------</center></br>\n",
    "\n",
    "Updated TO-DO list:\n",
    "\n",
    "**TO-DO**\n",
    "- [x] [parse `date_recorded` to `pd.datetime` data type;](#Handling-date_recorded-variable-data-type)\n",
    "- [ ] investigate on possible wrongly parsed data types for `object` variables;\n",
    "    - [x] [review `df` and eyespot wrongly parsed datatypes;](#Loading-Datasets)\n",
    "    - [ ] drop `recorded_by` due to redundancy;\n",
    "    - [ ] check `category` variables unique number of classes;\n",
    "- [ ] deal with `null` values.\n"
   ]
  },
  {
   "cell_type": "markdown",
   "id": "f6cefc9f",
   "metadata": {},
   "source": [
    "### Drop `recorded_by`"
   ]
  },
  {
   "cell_type": "code",
   "execution_count": null,
   "id": "834c5b01",
   "metadata": {},
   "outputs": [],
   "source": [
    "df = df.drop(columns=['recorded_by'])"
   ]
  },
  {
   "cell_type": "markdown",
   "id": "35374a01",
   "metadata": {},
   "source": [
    "Updated TO-DO list:\n",
    "\n",
    "**TO-DO**\n",
    "- [x] [parse `date_recorded` to `pd.datetime` data type;](#Handling-date_recorded-variable-data-type)\n",
    "- [ ] investigate on possible wrongly parsed data types for `object` variables;\n",
    "    - [x] [review `df` and eyespot wrongly parsed datatypes;](#Loading-Datasets)\n",
    "    - [x] [drop `recorded_by` due to redundancy;](#Drop-recorded_by)\n",
    "    - [ ] check `category` variables unique number of classes;\n",
    "- [ ] deal with `null` values.\n"
   ]
  },
  {
   "cell_type": "markdown",
   "id": "af6dc0e9",
   "metadata": {},
   "source": [
    "### Check `category` variables"
   ]
  },
  {
   "cell_type": "code",
   "execution_count": null,
   "id": "7458bcfa",
   "metadata": {},
   "outputs": [],
   "source": [
    "categorical_vars = df.select_dtypes(include=[object, 'category']).columns.tolist()\n",
    "\n",
    "plt.figure(figsize=(15, 3))\n",
    "df[categorical_vars].nunique().hist(color = 'gray', bins = 100)\n",
    "sns.despine(left = True)\n",
    "plt.title('Histogram Count of Unique Classes for Categorical Vars')\n",
    "plt.grid()\n",
    "plt.tight_layout()"
   ]
  },
  {
   "cell_type": "markdown",
   "id": "db632c2e",
   "metadata": {},
   "source": [
    "Most variables have few unique classes. But some of them have more than 2000 classes. Some variable have around 20,000 unique classes or more.\n",
    "\n",
    "Modeling with that amount of classes will be difficult. Let's investigate on those variables a little closer."
   ]
  },
  {
   "cell_type": "code",
   "execution_count": null,
   "id": "73a7372a",
   "metadata": {},
   "outputs": [],
   "source": [
    "df[categorical_vars].nunique()[(df[categorical_vars].nunique() > 30)]"
   ]
  },
  {
   "cell_type": "code",
   "execution_count": null,
   "id": "45dc3619",
   "metadata": {},
   "outputs": [],
   "source": []
  },
  {
   "cell_type": "code",
   "execution_count": null,
   "id": "f1680011",
   "metadata": {},
   "outputs": [],
   "source": [
    "y['status_group'].value_counts()"
   ]
  },
  {
   "cell_type": "markdown",
   "id": "5657b738",
   "metadata": {},
   "source": [
    "### NAs"
   ]
  },
  {
   "cell_type": "code",
   "execution_count": null,
   "id": "de04d9c4",
   "metadata": {},
   "outputs": [],
   "source": [
    "# Check null values\n",
    "plt.figure(figsize = (15, 6))\n",
    "df.isna().mean().plot(kind='bar', color = 'darkgray', zorder = 2)\n",
    "sns.despine(left = True)\n",
    "plt.grid(which = 'major', axis = 'y', color='lightgray', linestyle='--', linewidth=.5, zorder = 1)\n",
    "plt.tight_layout()"
   ]
  },
  {
   "cell_type": "markdown",
   "id": "5820161c",
   "metadata": {},
   "source": [
    "Both **`public_meeting`** and **`permit`** variables appear as `categorical` data type, but they actually are `bool`. In fact, if it wasn't for the `'NaN'` values, they would have been parsed correctly yet while reading the file.\n",
    "\n",
    "We need to either drop those lines or impute a thoughtful value. We'll consider this task ahead, but first let's take note of our tasks on helpful a **TO-DO list**.\n",
    "\n",
    "\n",
    "</br><center>------</center></br>\n",
    "\n",
    "**TO-DO**\n",
    "- [x] parse `date_recorded` to `pd.datetime` data type\n",
    "- [ ] drop or impute values to `public_meeting` and `permit`variables;\n",
    "- [ ] drop `schema_name` variable;\n",
    "- [ ] remove `recorded_by` columns due to that all values are the same `GeoDataConsultants Ltd`.\n"
   ]
  },
  {
   "cell_type": "code",
   "execution_count": null,
   "id": "051953e4",
   "metadata": {},
   "outputs": [],
   "source": [
    "df = df.dropna(subset = ['public_meeting', 'permit'])\n",
    "df.shape"
   ]
  },
  {
   "cell_type": "code",
   "execution_count": null,
   "id": "c856af63",
   "metadata": {},
   "outputs": [],
   "source": [
    "plt.figure(figsize = (15, 6))\n",
    "df.isna().mean().plot(kind='bar', color = 'darkgray', zorder = 2)\n",
    "sns.despine(left = True)\n",
    "plt.grid(which = 'major', axis = 'y', color='lightgray', linestyle='--', linewidth=.5, zorder = 1)\n",
    "plt.tight_layout()"
   ]
  },
  {
   "cell_type": "code",
   "execution_count": null,
   "id": "3d98fdb2",
   "metadata": {},
   "outputs": [],
   "source": [
    "df = df.drop(columns = 'scheme_name')\n",
    "df.shape"
   ]
  },
  {
   "cell_type": "code",
   "execution_count": null,
   "id": "dd4685b4",
   "metadata": {},
   "outputs": [],
   "source": [
    "# Check y values\n",
    "y['status_group'].value_counts(normalize=True)"
   ]
  },
  {
   "cell_type": "markdown",
   "id": "9421579e",
   "metadata": {},
   "source": [
    "### Modeling\n",
    "\n",
    "Add to import cell:\n",
    "\n",
    "```python\n",
    "from sklearn.model_selection import train_test_split\n",
    "from catboost import CatBoostClassifier, Pool\n",
    "```"
   ]
  },
  {
   "cell_type": "code",
   "execution_count": null,
   "id": "4858e1a0",
   "metadata": {},
   "outputs": [],
   "source": [
    "# def train_test_eval_split(X, y, random_state = None, \n",
    "#                           train_size = .6, \n",
    "#                           test_size = .2, \n",
    "#                           val_size = .2,\n",
    "#                           **kwargs):\n",
    "    \n",
    "#     df_n_rows = X.shape[0]\n",
    "    \n",
    "#     train_n_rows = np.ceil(df_n_rows * train_size)\n",
    "#     val_n_rows = np.ceil(df_n_rows * val_size)\n",
    "#     test_n_rows = np.floor(df_n_rows * test_size)\n",
    "    \n",
    "#     assert train_n_rows + val_n_rows + test_n_rows == df_n_rows\n",
    "    \n",
    "#     X_train, X_val_test, y_train, y_val_test = train_test_split(X, y, train_size = train_n_rows)\n",
    "#     X_val, X_test, y_val, y_test = train_test_split(X_val_test, y_val_test, train_size = val_n_rows)\n",
    "    \n",
    "#     return X_train, X_val, X_test, y_train, y_val, y_test"
   ]
  },
  {
   "cell_type": "code",
   "execution_count": null,
   "id": "52512b7b",
   "metadata": {},
   "outputs": [],
   "source": [
    "df = df.dropna(axis = 0)"
   ]
  },
  {
   "cell_type": "code",
   "execution_count": null,
   "id": "8e0cf4a2",
   "metadata": {},
   "outputs": [],
   "source": [
    "X = df.drop(columns = ['id', 'status_group'])\n",
    "y = df['status_group']"
   ]
  },
  {
   "cell_type": "code",
   "execution_count": null,
   "id": "c37f5850",
   "metadata": {},
   "outputs": [],
   "source": [
    "# train_test_eval_split(X, y)"
   ]
  },
  {
   "cell_type": "code",
   "execution_count": null,
   "id": "7b4107e9",
   "metadata": {},
   "outputs": [],
   "source": [
    "X_train, X_val_test, y_train, y_val_test = train_test_split(X, y, train_size = .6, random_state = 0)"
   ]
  },
  {
   "cell_type": "code",
   "execution_count": null,
   "id": "236150ab",
   "metadata": {},
   "outputs": [],
   "source": [
    "X_val, X_test, y_val, y_test = train_test_split(X_val_test, y_val_test, test_size = .5, random_state = 0)"
   ]
  },
  {
   "cell_type": "code",
   "execution_count": null,
   "id": "297ad53a",
   "metadata": {},
   "outputs": [],
   "source": [
    "print(X_train.shape, X_val.shape, X_test.shape)\n",
    "print(y_train.shape, y_val.shape, y_test.shape)"
   ]
  },
  {
   "cell_type": "code",
   "execution_count": null,
   "id": "97e49baf",
   "metadata": {},
   "outputs": [],
   "source": [
    "train_dataset = Pool(X_train, y_train, cat_features = X_train.select_dtypes(include = [object, 'category']).columns.tolist())"
   ]
  },
  {
   "cell_type": "code",
   "execution_count": null,
   "id": "be100130",
   "metadata": {
    "scrolled": false
   },
   "outputs": [],
   "source": [
    "model_params = {\n",
    "    'iterations': 1_000, \n",
    "    'loss_function': 'MultiClass', \n",
    "    'train_dir': 'crossentropy',\n",
    "    'allow_writing_files': False,\n",
    "    'random_seed': 42,\n",
    "}\n",
    "\n",
    "model = CatBoostClassifier(**model_params)\n",
    "model.fit(train_dataset, verbose=True, plot=True)"
   ]
  },
  {
   "cell_type": "code",
   "execution_count": null,
   "id": "7bb4597a",
   "metadata": {},
   "outputs": [],
   "source": [
    "y_pred_val = model.predict(X_val)"
   ]
  },
  {
   "cell_type": "code",
   "execution_count": null,
   "id": "7c2bca9d",
   "metadata": {},
   "outputs": [],
   "source": [
    "from sklearn.metrics import plot_confusion_matrix, classification_report"
   ]
  },
  {
   "cell_type": "code",
   "execution_count": null,
   "id": "7a49a753",
   "metadata": {},
   "outputs": [],
   "source": [
    "print(plot_confusion_matrix(model, X_val, y_val))"
   ]
  },
  {
   "cell_type": "code",
   "execution_count": null,
   "id": "c50f50a5",
   "metadata": {},
   "outputs": [],
   "source": [
    "print(classification_report(y_val, y_pred_val))"
   ]
  },
  {
   "cell_type": "markdown",
   "id": "29f2b501",
   "metadata": {
    "heading_collapsed": true
   },
   "source": [
    "### Impute missing values\n",
    "\n",
    "```python \n",
    "### from sklearn.impute import KNNimmputer\n",
    "```\n",
    "\n",
    "Even if the amount of total rows missing is at most 3334 observations (which represents 5.6% of our dataset), I would like to try a `KNNImputer` on them."
   ]
  },
  {
   "cell_type": "code",
   "execution_count": null,
   "id": "a6373bac",
   "metadata": {
    "hidden": true
   },
   "outputs": [],
   "source": [
    "knn_imputer = KNNImputer()"
   ]
  },
  {
   "cell_type": "code",
   "execution_count": null,
   "id": "a8efeb89",
   "metadata": {
    "hidden": true
   },
   "outputs": [],
   "source": [
    "X[['public_meeting', 'permit']].values.astype(bool)"
   ]
  },
  {
   "cell_type": "code",
   "execution_count": null,
   "id": "3df76dbd",
   "metadata": {
    "hidden": true
   },
   "outputs": [],
   "source": [
    "X_knnimputer_train = X.sample(300)\n",
    "index_X_knnimputer_train = X_knnimputer_train.index\n",
    "\n",
    "y_knnimputer_train = X_knnimputer_train[['public_meeting', 'permit']]\n",
    "y_permit_knnimputer_train = X_knnimputer_train['permit']\n",
    "\n",
    "X_knnimputer_train = X_knnimputer_train.drop(columns = ['public_meeting', 'permit'])"
   ]
  },
  {
   "cell_type": "code",
   "execution_count": null,
   "id": "aade53b5",
   "metadata": {
    "hidden": true
   },
   "outputs": [],
   "source": [
    "knn_imputer.fit(X_knnimputer_train, y=y_knnimputer_train)"
   ]
  },
  {
   "cell_type": "code",
   "execution_count": null,
   "id": "84aa4345",
   "metadata": {
    "hidden": true
   },
   "outputs": [],
   "source": [
    "(3334 / X.shape[0]) * 100"
   ]
  },
  {
   "cell_type": "code",
   "execution_count": null,
   "id": "8d9449e3",
   "metadata": {
    "hidden": true
   },
   "outputs": [],
   "source": [
    "import xgboost as xgb"
   ]
  },
  {
   "cell_type": "code",
   "execution_count": null,
   "id": "79fe33fa",
   "metadata": {
    "hidden": true
   },
   "outputs": [],
   "source": [
    "xgb.XGBRFClassifier(use_label_encoder=False)"
   ]
  },
  {
   "cell_type": "code",
   "execution_count": null,
   "id": "bcd80435",
   "metadata": {
    "hidden": true
   },
   "outputs": [],
   "source": [
    "from sklearn.ensemble import RandomForestClassifier"
   ]
  },
  {
   "cell_type": "code",
   "execution_count": null,
   "id": "5a8824e0",
   "metadata": {
    "hidden": true
   },
   "outputs": [],
   "source": [
    "RandomForestClassifier(n_estimators=10_000)"
   ]
  },
  {
   "cell_type": "code",
   "execution_count": null,
   "id": "4853edaa",
   "metadata": {
    "hidden": true
   },
   "outputs": [],
   "source": []
  }
 ],
 "metadata": {
  "kernelspec": {
   "display_name": "Python 3 (ipykernel)",
   "language": "python",
   "name": "python3"
  },
  "language_info": {
   "codemirror_mode": {
    "name": "ipython",
    "version": 3
   },
   "file_extension": ".py",
   "mimetype": "text/x-python",
   "name": "python",
   "nbconvert_exporter": "python",
   "pygments_lexer": "ipython3",
   "version": "3.8.12"
  },
  "toc": {
   "base_numbering": 1,
   "nav_menu": {},
   "number_sections": true,
   "sideBar": true,
   "skip_h1_title": false,
   "title_cell": "Table of Contents",
   "title_sidebar": "Contents",
   "toc_cell": false,
   "toc_position": {},
   "toc_section_display": true,
   "toc_window_display": false
  }
 },
 "nbformat": 4,
 "nbformat_minor": 5
}
